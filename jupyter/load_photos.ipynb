{
 "cells": [
  {
   "cell_type": "code",
   "execution_count": 1,
   "id": "c1bf55e4",
   "metadata": {},
   "outputs": [],
   "source": [
    "import pandas as pd\n",
    "import numpy as np\n",
    "import os\n",
    "import urllib\n",
    "import glob\n",
    "import shutil"
   ]
  },
  {
   "cell_type": "code",
   "execution_count": 2,
   "id": "81b8dcc0",
   "metadata": {},
   "outputs": [],
   "source": [
    "BASE_DIR = os.path.dirname(os.path.dirname(os.path.abspath(__name__))) # папка выше"
   ]
  },
  {
   "cell_type": "code",
   "execution_count": 3,
   "id": "6ddf337e",
   "metadata": {},
   "outputs": [],
   "source": [
    "path = BASE_DIR + \"\\\\scripts_datasets\""
   ]
  },
  {
   "cell_type": "code",
   "execution_count": 4,
   "id": "37523cd4",
   "metadata": {},
   "outputs": [
    {
     "data": {
      "text/plain": [
       "'C:\\\\Users\\\\User\\\\Desktop\\\\py_ai\\\\scripts_datasets'"
      ]
     },
     "execution_count": 4,
     "metadata": {},
     "output_type": "execute_result"
    }
   ],
   "source": [
    "path"
   ]
  },
  {
   "cell_type": "code",
   "execution_count": 21,
   "id": "7e26d6ab",
   "metadata": {},
   "outputs": [],
   "source": [
    "df_336520 = pd.read_csv(f\"{path}\\\\observations-336520.csv\") # пример"
   ]
  },
  {
   "cell_type": "code",
   "execution_count": 22,
   "id": "9cd873d3",
   "metadata": {},
   "outputs": [
    {
     "data": {
      "text/html": [
       "<div>\n",
       "<style scoped>\n",
       "    .dataframe tbody tr th:only-of-type {\n",
       "        vertical-align: middle;\n",
       "    }\n",
       "\n",
       "    .dataframe tbody tr th {\n",
       "        vertical-align: top;\n",
       "    }\n",
       "\n",
       "    .dataframe thead th {\n",
       "        text-align: right;\n",
       "    }\n",
       "</style>\n",
       "<table border=\"1\" class=\"dataframe\">\n",
       "  <thead>\n",
       "    <tr style=\"text-align: right;\">\n",
       "      <th></th>\n",
       "      <th>image_url</th>\n",
       "      <th>scientific_name</th>\n",
       "    </tr>\n",
       "  </thead>\n",
       "  <tbody>\n",
       "    <tr>\n",
       "      <th>0</th>\n",
       "      <td>https://inaturalist-open-data.s3.amazonaws.com...</td>\n",
       "      <td>Sympetrum sanguineum</td>\n",
       "    </tr>\n",
       "    <tr>\n",
       "      <th>1</th>\n",
       "      <td>https://static.inaturalist.org/photos/13104976...</td>\n",
       "      <td>Sympetrum sanguineum</td>\n",
       "    </tr>\n",
       "    <tr>\n",
       "      <th>2</th>\n",
       "      <td>https://static.inaturalist.org/photos/13105126...</td>\n",
       "      <td>Sympetrum sanguineum</td>\n",
       "    </tr>\n",
       "    <tr>\n",
       "      <th>3</th>\n",
       "      <td>https://inaturalist-open-data.s3.amazonaws.com...</td>\n",
       "      <td>Sympetrum sanguineum</td>\n",
       "    </tr>\n",
       "    <tr>\n",
       "      <th>4</th>\n",
       "      <td>https://static.inaturalist.org/photos/13443782...</td>\n",
       "      <td>Sympetrum sanguineum</td>\n",
       "    </tr>\n",
       "    <tr>\n",
       "      <th>...</th>\n",
       "      <td>...</td>\n",
       "      <td>...</td>\n",
       "    </tr>\n",
       "    <tr>\n",
       "      <th>6950</th>\n",
       "      <td>https://inaturalist-open-data.s3.amazonaws.com...</td>\n",
       "      <td>Sympetrum sanguineum</td>\n",
       "    </tr>\n",
       "    <tr>\n",
       "      <th>6951</th>\n",
       "      <td>https://static.inaturalist.org/photos/28649488...</td>\n",
       "      <td>Sympetrum sanguineum</td>\n",
       "    </tr>\n",
       "    <tr>\n",
       "      <th>6952</th>\n",
       "      <td>https://inaturalist-open-data.s3.amazonaws.com...</td>\n",
       "      <td>Sympetrum sanguineum</td>\n",
       "    </tr>\n",
       "    <tr>\n",
       "      <th>6953</th>\n",
       "      <td>https://inaturalist-open-data.s3.amazonaws.com...</td>\n",
       "      <td>Sympetrum sanguineum</td>\n",
       "    </tr>\n",
       "    <tr>\n",
       "      <th>6954</th>\n",
       "      <td>https://inaturalist-open-data.s3.amazonaws.com...</td>\n",
       "      <td>Sympetrum sanguineum</td>\n",
       "    </tr>\n",
       "  </tbody>\n",
       "</table>\n",
       "<p>6955 rows × 2 columns</p>\n",
       "</div>"
      ],
      "text/plain": [
       "                                              image_url       scientific_name\n",
       "0     https://inaturalist-open-data.s3.amazonaws.com...  Sympetrum sanguineum\n",
       "1     https://static.inaturalist.org/photos/13104976...  Sympetrum sanguineum\n",
       "2     https://static.inaturalist.org/photos/13105126...  Sympetrum sanguineum\n",
       "3     https://inaturalist-open-data.s3.amazonaws.com...  Sympetrum sanguineum\n",
       "4     https://static.inaturalist.org/photos/13443782...  Sympetrum sanguineum\n",
       "...                                                 ...                   ...\n",
       "6950  https://inaturalist-open-data.s3.amazonaws.com...  Sympetrum sanguineum\n",
       "6951  https://static.inaturalist.org/photos/28649488...  Sympetrum sanguineum\n",
       "6952  https://inaturalist-open-data.s3.amazonaws.com...  Sympetrum sanguineum\n",
       "6953  https://inaturalist-open-data.s3.amazonaws.com...  Sympetrum sanguineum\n",
       "6954  https://inaturalist-open-data.s3.amazonaws.com...  Sympetrum sanguineum\n",
       "\n",
       "[6955 rows x 2 columns]"
      ]
     },
     "execution_count": 22,
     "metadata": {},
     "output_type": "execute_result"
    }
   ],
   "source": [
    "df_336520"
   ]
  },
  {
   "cell_type": "code",
   "execution_count": 5,
   "id": "59febe4e",
   "metadata": {},
   "outputs": [],
   "source": [
    "# скрипт создания датасета\n",
    "df_columns = ['image_url', 'scientific_name']\n",
    "df = pd.DataFrame(columns=df_columns)\n",
    "\n",
    "for filename in glob.glob(f\"{path}\\\\*.csv\"):\n",
    "    temp_df = pd.read_csv(filename)\n",
    "    df = pd.concat([df, temp_df], axis=0)\n",
    "    \n",
    "df.index = range(len(df))"
   ]
  },
  {
   "cell_type": "code",
   "execution_count": 15,
   "id": "b67809e6",
   "metadata": {},
   "outputs": [
    {
     "data": {
      "text/html": [
       "<div>\n",
       "<style scoped>\n",
       "    .dataframe tbody tr th:only-of-type {\n",
       "        vertical-align: middle;\n",
       "    }\n",
       "\n",
       "    .dataframe tbody tr th {\n",
       "        vertical-align: top;\n",
       "    }\n",
       "\n",
       "    .dataframe thead th {\n",
       "        text-align: right;\n",
       "    }\n",
       "</style>\n",
       "<table border=\"1\" class=\"dataframe\">\n",
       "  <thead>\n",
       "    <tr style=\"text-align: right;\">\n",
       "      <th></th>\n",
       "      <th>image_url</th>\n",
       "      <th>scientific_name</th>\n",
       "    </tr>\n",
       "  </thead>\n",
       "  <tbody>\n",
       "    <tr>\n",
       "      <th>96935</th>\n",
       "      <td>https://inaturalist-open-data.s3.amazonaws.com...</td>\n",
       "      <td>Lestes dryas</td>\n",
       "    </tr>\n",
       "    <tr>\n",
       "      <th>96936</th>\n",
       "      <td>http://static.inaturalist.org/photos/2074790/m...</td>\n",
       "      <td>Lestes dryas</td>\n",
       "    </tr>\n",
       "    <tr>\n",
       "      <th>96937</th>\n",
       "      <td>http://static.inaturalist.org/photos/2075599/m...</td>\n",
       "      <td>Lestes dryas</td>\n",
       "    </tr>\n",
       "    <tr>\n",
       "      <th>96938</th>\n",
       "      <td>http://static.inaturalist.org/photos/2078418/m...</td>\n",
       "      <td>Lestes dryas</td>\n",
       "    </tr>\n",
       "    <tr>\n",
       "      <th>96939</th>\n",
       "      <td>http://static.inaturalist.org/photos/2078597/m...</td>\n",
       "      <td>Lestes dryas</td>\n",
       "    </tr>\n",
       "    <tr>\n",
       "      <th>...</th>\n",
       "      <td>...</td>\n",
       "      <td>...</td>\n",
       "    </tr>\n",
       "    <tr>\n",
       "      <th>161564</th>\n",
       "      <td>https://inaturalist-open-data.s3.amazonaws.com...</td>\n",
       "      <td>Coenagrion ornatum</td>\n",
       "    </tr>\n",
       "    <tr>\n",
       "      <th>161565</th>\n",
       "      <td>https://static.inaturalist.org/photos/28842878...</td>\n",
       "      <td>Coenagrion ornatum</td>\n",
       "    </tr>\n",
       "    <tr>\n",
       "      <th>161566</th>\n",
       "      <td>https://static.inaturalist.org/photos/28984598...</td>\n",
       "      <td>Coenagrion ornatum</td>\n",
       "    </tr>\n",
       "    <tr>\n",
       "      <th>161567</th>\n",
       "      <td>https://static.inaturalist.org/photos/28984608...</td>\n",
       "      <td>Coenagrion ornatum</td>\n",
       "    </tr>\n",
       "    <tr>\n",
       "      <th>161568</th>\n",
       "      <td>https://inaturalist-open-data.s3.amazonaws.com...</td>\n",
       "      <td>Coenagrion ornatum</td>\n",
       "    </tr>\n",
       "  </tbody>\n",
       "</table>\n",
       "<p>64634 rows × 2 columns</p>\n",
       "</div>"
      ],
      "text/plain": [
       "                                                image_url     scientific_name\n",
       "96935   https://inaturalist-open-data.s3.amazonaws.com...        Lestes dryas\n",
       "96936   http://static.inaturalist.org/photos/2074790/m...        Lestes dryas\n",
       "96937   http://static.inaturalist.org/photos/2075599/m...        Lestes dryas\n",
       "96938   http://static.inaturalist.org/photos/2078418/m...        Lestes dryas\n",
       "96939   http://static.inaturalist.org/photos/2078597/m...        Lestes dryas\n",
       "...                                                   ...                 ...\n",
       "161564  https://inaturalist-open-data.s3.amazonaws.com...  Coenagrion ornatum\n",
       "161565  https://static.inaturalist.org/photos/28842878...  Coenagrion ornatum\n",
       "161566  https://static.inaturalist.org/photos/28984598...  Coenagrion ornatum\n",
       "161567  https://static.inaturalist.org/photos/28984608...  Coenagrion ornatum\n",
       "161568  https://inaturalist-open-data.s3.amazonaws.com...  Coenagrion ornatum\n",
       "\n",
       "[64634 rows x 2 columns]"
      ]
     },
     "execution_count": 15,
     "metadata": {},
     "output_type": "execute_result"
    }
   ],
   "source": [
    "sub_df = df.iloc[96935:]\n",
    "sub_df"
   ]
  },
  {
   "cell_type": "code",
   "execution_count": 20,
   "id": "bb1464d4",
   "metadata": {},
   "outputs": [
    {
     "data": {
      "text/plain": [
       "'http://static.inaturalist.org/photos/2074790/medium.jpg'"
      ]
     },
     "execution_count": 20,
     "metadata": {},
     "output_type": "execute_result"
    }
   ],
   "source": [
    "sub_df.iloc[1]['image_url']"
   ]
  },
  {
   "cell_type": "code",
   "execution_count": 21,
   "id": "03744a94",
   "metadata": {},
   "outputs": [],
   "source": [
    "# скрипт загрузки фотографий\n",
    "index = 96936\n",
    "\n",
    "for raw in sub_df.iloc:\n",
    "    try:\n",
    "        filename = f\"{index}.jpg\"\n",
    "\n",
    "        urllib.request.urlretrieve(raw['image_url'], filename)\n",
    "        shutil.move(filename, f\"d:\\\\odonata\\\\{raw['scientific_name']}\")\n",
    "\n",
    "        index += 1\n",
    "    except Exception:\n",
    "        continue"
   ]
  },
  {
   "cell_type": "code",
   "execution_count": 34,
   "id": "11ecae3f",
   "metadata": {},
   "outputs": [
    {
     "data": {
      "text/plain": [
       "'C:\\\\Users\\\\User\\\\Desktop\\\\py_ai'"
      ]
     },
     "execution_count": 34,
     "metadata": {},
     "output_type": "execute_result"
    }
   ],
   "source": [
    "BASE_DIR"
   ]
  },
  {
   "cell_type": "code",
   "execution_count": 22,
   "id": "c262e27b",
   "metadata": {},
   "outputs": [
    {
     "data": {
      "text/plain": [
       "161568"
      ]
     },
     "execution_count": 22,
     "metadata": {},
     "output_type": "execute_result"
    }
   ],
   "source": [
    "index # 92026"
   ]
  },
  {
   "cell_type": "code",
   "execution_count": null,
   "id": "1ec58da8",
   "metadata": {},
   "outputs": [],
   "source": []
  }
 ],
 "metadata": {
  "kernelspec": {
   "display_name": "Python 3 (ipykernel)",
   "language": "python",
   "name": "python3"
  },
  "language_info": {
   "codemirror_mode": {
    "name": "ipython",
    "version": 3
   },
   "file_extension": ".py",
   "mimetype": "text/x-python",
   "name": "python",
   "nbconvert_exporter": "python",
   "pygments_lexer": "ipython3",
   "version": "3.10.4"
  }
 },
 "nbformat": 4,
 "nbformat_minor": 5
}
