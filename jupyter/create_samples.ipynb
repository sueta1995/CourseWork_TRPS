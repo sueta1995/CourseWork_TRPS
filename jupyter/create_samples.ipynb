{
 "cells": [
  {
   "cell_type": "code",
   "execution_count": 19,
   "id": "576f8644-0f11-4551-a192-a5f72f4ca7fb",
   "metadata": {},
   "outputs": [],
   "source": [
    "import os, random, shutil"
   ]
  },
  {
   "cell_type": "code",
   "execution_count": 12,
   "id": "07ee3da1",
   "metadata": {},
   "outputs": [],
   "source": [
    "BASE_DIR = os.path.dirname(os.path.dirname(os.path.abspath(__name__))) + '/sueta/finds/static/finds/images/'\n",
    "DATA_DIR = '/mnt/d/odonata_data/'"
   ]
  },
  {
   "cell_type": "code",
   "execution_count": 9,
   "id": "a1377e0a",
   "metadata": {},
   "outputs": [],
   "source": [
    "SPECIES = os.listdir(DATA_DIR)"
   ]
  },
  {
   "cell_type": "code",
   "execution_count": 14,
   "id": "653cc276",
   "metadata": {},
   "outputs": [
    {
     "data": {
      "text/plain": [
       "['Aeshna cyanea',\n",
       " 'Aeshna grandis',\n",
       " 'Aeshna isoceles',\n",
       " 'Aeshna juncea',\n",
       " 'Aeshna mixta',\n",
       " 'Anax imperator',\n",
       " 'Anax parthenope',\n",
       " 'Brachytron pratense',\n",
       " 'Calopteryx splendens',\n",
       " 'Calopteryx virgo',\n",
       " 'Coenagrion hastulatum',\n",
       " 'Coenagrion puella',\n",
       " 'Coenagrion pulchellum',\n",
       " 'Cordulia aenea',\n",
       " 'Enallagma cyathigerum',\n",
       " 'Erythromma najas',\n",
       " 'Erythromma viridulum',\n",
       " 'Gomphus vulgatissimus',\n",
       " 'Ischnura elegans',\n",
       " 'Ischnura pumilio',\n",
       " 'Lestes barbarus',\n",
       " 'Lestes dryas',\n",
       " 'Lestes sponsa',\n",
       " 'Lestes virens',\n",
       " 'Leucorrhinia rubicunda',\n",
       " 'Libellula depressa',\n",
       " 'Libellula fulva',\n",
       " 'Libellula quadrimaculata',\n",
       " 'Onychogomphus forcipatus',\n",
       " 'Orthetrum brunneum',\n",
       " 'Orthetrum cancellatum',\n",
       " 'Orthetrum coerulescens',\n",
       " 'Pantala flavescens',\n",
       " 'Platycnemis pennipes',\n",
       " 'Pyrrhosoma nymphula',\n",
       " 'Sympecma fusca',\n",
       " 'Sympecma paedisca',\n",
       " 'Sympetrum danae',\n",
       " 'Sympetrum flaveolum',\n",
       " 'Sympetrum fonscolombii',\n",
       " 'Sympetrum pedemontanum',\n",
       " 'Sympetrum sanguineum',\n",
       " 'Sympetrum striolatum',\n",
       " 'Sympetrum vulgatum']"
      ]
     },
     "execution_count": 14,
     "metadata": {},
     "output_type": "execute_result"
    }
   ],
   "source": [
    "SPECIES"
   ]
  },
  {
   "cell_type": "code",
   "execution_count": 26,
   "id": "9c9234b4",
   "metadata": {},
   "outputs": [],
   "source": [
    "for specie in SPECIES:\n",
    "    dst_path = BASE_DIR + specie\n",
    "\n",
    "    os.mkdir(dst_path)\n",
    "\n",
    "    for _ in range(5):\n",
    "        img = random.choice(os.listdir(f\"{DATA_DIR}/{specie}\"))\n",
    "        img_path = f'{DATA_DIR}/{specie}/{img}'\n",
    "\n",
    "        shutil.copy(img_path, dst_path)"
   ]
  },
  {
   "cell_type": "code",
   "execution_count": 28,
   "id": "9acd9d0b",
   "metadata": {},
   "outputs": [],
   "source": [
    "for specie in SPECIES:\n",
    "    dst_path = BASE_DIR + specie\n",
    "    _ = 1\n",
    "\n",
    "    for f in os.listdir(dst_path):\n",
    "        os.rename(os.path.join(dst_path, f), f'{dst_path}/{_}.jpg')\n",
    "\n",
    "        _ += 1"
   ]
  },
  {
   "cell_type": "code",
   "execution_count": null,
   "id": "8cadbcc0",
   "metadata": {},
   "outputs": [],
   "source": []
  }
 ],
 "metadata": {
  "kernelspec": {
   "display_name": "Python 3 (ipykernel)",
   "language": "python",
   "name": "python3"
  },
  "language_info": {
   "codemirror_mode": {
    "name": "ipython",
    "version": 3
   },
   "file_extension": ".py",
   "mimetype": "text/x-python",
   "name": "python",
   "nbconvert_exporter": "python",
   "pygments_lexer": "ipython3",
   "version": "3.10.12"
  }
 },
 "nbformat": 4,
 "nbformat_minor": 5
}
