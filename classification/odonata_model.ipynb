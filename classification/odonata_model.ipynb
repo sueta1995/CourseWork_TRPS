{
 "cells": [
  {
   "cell_type": "markdown",
   "id": "41cec3fb",
   "metadata": {
    "colab_type": "text",
    "id": "view-in-github"
   },
   "source": [
    "<a href=\"https://colab.research.google.com/github/sueta1995/CourseWork_TRPS/blob/machine_learning/classification/odonata_model.ipynb\" target=\"_parent\"><img src=\"https://colab.research.google.com/assets/colab-badge.svg\" alt=\"Open In Colab\"/></a>"
   ]
  },
  {
   "cell_type": "code",
   "execution_count": 9,
   "id": "8143c37f",
   "metadata": {
    "id": "8143c37f"
   },
   "outputs": [],
   "source": [
    "import pickle\n",
    "import matplotlib.pyplot as plt\n",
    "import tensorflow as tf\n",
    "import scipy\n",
    "from keras.preprocessing.image import ImageDataGenerator\n",
    "from keras.models import Sequential\n",
    "from keras.layers import Dense, Dropout, Activation, Flatten, Input, BatchNormalization, Conv2D\n",
    "from keras.layers.pooling import MaxPool2D\n",
    "from keras.optimizers import SGD"
   ]
  },
  {
   "cell_type": "code",
   "execution_count": 15,
   "id": "ff670622",
   "metadata": {
    "id": "ff670622"
   },
   "outputs": [],
   "source": [
    "IMG_SIZE = 224\n",
    "CHANNELS = 3\n",
    "TRAIN_DIR = '/mnt/d/odonata_data/train_data'\n",
    "VALID_DIR = '/mnt/d/odonata_data/valid_data'\n",
    "EPOCHS = 200\n",
    "BATCH_SIZE = 128"
   ]
  },
  {
   "cell_type": "code",
   "execution_count": 3,
   "id": "5RTX37IsSFBE",
   "metadata": {
    "colab": {
     "base_uri": "https://localhost:8080/"
    },
    "id": "5RTX37IsSFBE",
    "outputId": "b3daccab-a2ac-4ac9-8573-6716000c95c4"
   },
   "outputs": [],
   "source": [
    "# Для google colab\n",
    "# from google.colab import drive\n",
    "# drive.mount('/content/drive')\n",
    "\n",
    "# VALID_DIR = '/content/drive/MyDrive/odonata_data/valid_data'\n",
    "# TRAIN_DIR = '/content/drive/MyDrive/odonata_data/train_data'"
   ]
  },
  {
   "cell_type": "code",
   "execution_count": 4,
   "id": "72772401",
   "metadata": {
    "id": "72772401"
   },
   "outputs": [],
   "source": [
    "train_datagen = ImageDataGenerator(\n",
    "    rescale=1./255,\n",
    "    rotation_range=10,\n",
    "    width_shift_range=0.1,\n",
    "    height_shift_range=0.1,\n",
    "    shear_range=0.1,\n",
    "    zoom_range=0.1,\n",
    "    brightness_range=[0.15,2.0],\n",
    "    horizontal_flip=True\n",
    ")\n",
    "\n",
    "valid_datagen = ImageDataGenerator(\n",
    "    rescale=1./255.\n",
    ")"
   ]
  },
  {
   "cell_type": "code",
   "execution_count": 5,
   "id": "bc67b17f",
   "metadata": {
    "id": "bc67b17f",
    "outputId": "76ad27da-9dd5-4afb-8461-6762b9ed0250"
   },
   "outputs": [
    {
     "name": "stdout",
     "output_type": "stream",
     "text": [
      "Found 39600 images belonging to 44 classes.\n",
      "Found 4400 images belonging to 44 classes.\n"
     ]
    }
   ],
   "source": [
    "train_generator = train_datagen.flow_from_directory(\n",
    "    TRAIN_DIR,\n",
    "    target_size=(IMG_SIZE, IMG_SIZE),\n",
    "    color_mode='rgb',\n",
    "    batch_size=32,\n",
    "    seed=1,\n",
    "    shuffle=True,\n",
    "    class_mode='categorical'\n",
    ")\n",
    "\n",
    "valid_generator = valid_datagen.flow_from_directory(\n",
    "    VALID_DIR,\n",
    "    target_size=(IMG_SIZE, IMG_SIZE),\n",
    "    color_mode='rgb',\n",
    "    batch_size=32,\n",
    "    seed=7,\n",
    "    shuffle=True,\n",
    "    class_mode='categorical'\n",
    ")\n",
    "\n",
    "train_num = train_generator.samples\n",
    "valid_num = valid_generator.samples"
   ]
  },
  {
   "cell_type": "code",
   "execution_count": 16,
   "id": "b5e90514",
   "metadata": {
    "id": "b5e90514",
    "outputId": "a61a2d45-f1e1-4686-e7ac-795b7ee971b6"
   },
   "outputs": [
    {
     "name": "stdout",
     "output_type": "stream",
     "text": [
      "Model: \"sequential_4\"\n",
      "_________________________________________________________________\n",
      " Layer (type)                Output Shape              Param #   \n",
      "=================================================================\n",
      " conv2d_16 (Conv2D)          (None, 54, 54, 96)        34944     \n",
      "                                                                 \n",
      " batch_normalization_15 (Bat  (None, 54, 54, 96)       384       \n",
      " chNormalization)                                                \n",
      "                                                                 \n",
      " max_pooling2d_9 (MaxPooling  (None, 26, 26, 96)       0         \n",
      " 2D)                                                             \n",
      "                                                                 \n",
      " conv2d_17 (Conv2D)          (None, 26, 26, 256)       614656    \n",
      "                                                                 \n",
      " batch_normalization_16 (Bat  (None, 26, 26, 256)      1024      \n",
      " chNormalization)                                                \n",
      "                                                                 \n",
      " max_pooling2d_10 (MaxPoolin  (None, 12, 12, 256)      0         \n",
      " g2D)                                                            \n",
      "                                                                 \n",
      " conv2d_18 (Conv2D)          (None, 12, 12, 384)       885120    \n",
      "                                                                 \n",
      " batch_normalization_17 (Bat  (None, 12, 12, 384)      1536      \n",
      " chNormalization)                                                \n",
      "                                                                 \n",
      " conv2d_19 (Conv2D)          (None, 12, 12, 384)       1327488   \n",
      "                                                                 \n",
      " batch_normalization_18 (Bat  (None, 12, 12, 384)      1536      \n",
      " chNormalization)                                                \n",
      "                                                                 \n",
      " conv2d_20 (Conv2D)          (None, 12, 12, 256)       884992    \n",
      "                                                                 \n",
      " batch_normalization_19 (Bat  (None, 12, 12, 256)      1024      \n",
      " chNormalization)                                                \n",
      "                                                                 \n",
      " max_pooling2d_11 (MaxPoolin  (None, 5, 5, 256)        0         \n",
      " g2D)                                                            \n",
      "                                                                 \n",
      " flatten_3 (Flatten)         (None, 6400)              0         \n",
      "                                                                 \n",
      " dense_6 (Dense)             (None, 4096)              26218496  \n",
      "                                                                 \n",
      " dropout_3 (Dropout)         (None, 4096)              0         \n",
      "                                                                 \n",
      " dense_7 (Dense)             (None, 44)                180268    \n",
      "                                                                 \n",
      "=================================================================\n",
      "Total params: 30,151,468\n",
      "Trainable params: 30,148,716\n",
      "Non-trainable params: 2,752\n",
      "_________________________________________________________________\n"
     ]
    }
   ],
   "source": [
    "model = Sequential()\n",
    "\n",
    "model.add(Conv2D(filters=96, kernel_size=(11, 11),\n",
    "                 strides=(4, 4), activation=\"relu\",\n",
    "                 input_shape=(IMG_SIZE, IMG_SIZE, CHANNELS)))\n",
    "model.add(BatchNormalization())\n",
    "model.add(MaxPool2D(pool_size=(3, 3), strides= (2, 2)))\n",
    "model.add(Conv2D(filters=256, kernel_size=(5, 5),\n",
    "                 strides=(1, 1), activation=\"relu\",\n",
    "                 padding=\"same\"))\n",
    "model.add(BatchNormalization())\n",
    "model.add(MaxPool2D(pool_size=(3, 3), strides=(2, 2)))\n",
    "model.add(Conv2D(filters=384, kernel_size=(3, 3),\n",
    "                 strides=(1, 1), activation=\"relu\",\n",
    "                 padding=\"same\"))\n",
    "model.add(BatchNormalization())\n",
    "model.add(Conv2D(filters=384, kernel_size=(3, 3),\n",
    "                 strides=(1, 1), activation=\"relu\",\n",
    "                 padding=\"same\"))\n",
    "model.add(BatchNormalization())\n",
    "model.add(Conv2D(filters=256, kernel_size=(3, 3),\n",
    "                 strides=(1, 1), activation=\"relu\",\n",
    "                 padding=\"same\"))\n",
    "model.add(BatchNormalization())\n",
    "model.add(MaxPool2D(pool_size=(3, 3), strides=(2, 2)))\n",
    "model.add(Flatten())\n",
    "model.add(Dense(4096, activation=\"relu\"))\n",
    "model.add(Dropout(0.5))\n",
    "model.add(Dense(44, activation=\"softmax\"))\n",
    "\n",
    "model.compile(loss='categorical_crossentropy',\n",
    "              optimizer=SGD(learning_rate=0.001),\n",
    "              metrics=['accuracy'])\n",
    "\n",
    "model.summary()"
   ]
  },
  {
   "cell_type": "code",
   "execution_count": null,
   "id": "aa806d18",
   "metadata": {
    "id": "aa806d18",
    "outputId": "64966074-0387-45ce-976f-327162ddb9db"
   },
   "outputs": [
    {
     "name": "stdout",
     "output_type": "stream",
     "text": [
      "Epoch 1/200\n"
     ]
    },
    {
     "name": "stderr",
     "output_type": "stream",
     "text": [
      "2023-07-24 18:48:04.646674: I tensorflow/core/grappler/optimizers/custom_graph_optimizer_registry.cc:114] Plugin optimizer for device_type GPU is enabled.\n",
      "2023-07-24 18:48:04.709952: I tensorflow/core/common_runtime/pluggable_device/pluggable_device_factory.cc:306] Could not identify NUMA node of platform GPU ID 0, defaulting to 0. Your kernel may not have been built with NUMA support.\n",
      "2023-07-24 18:48:04.709992: I tensorflow/core/common_runtime/pluggable_device/pluggable_device_factory.cc:272] Created TensorFlow device (/job:localhost/replica:0/task:0/device:GPU:0 with 25430 MB memory) -> physical PluggableDevice (device: 0, name: DML, pci bus id: <undefined>)\n"
     ]
    },
    {
     "name": "stdout",
     "output_type": "stream",
     "text": [
      "1238/1238 [==============================] - ETA: 0s - loss: 4.2713 - accuracy: 0.0349"
     ]
    },
    {
     "name": "stderr",
     "output_type": "stream",
     "text": [
      "2023-07-24 18:55:20.522008: I tensorflow/core/grappler/optimizers/custom_graph_optimizer_registry.cc:114] Plugin optimizer for device_type GPU is enabled.\n",
      "2023-07-24 18:55:20.566509: I tensorflow/core/common_runtime/pluggable_device/pluggable_device_factory.cc:306] Could not identify NUMA node of platform GPU ID 0, defaulting to 0. Your kernel may not have been built with NUMA support.\n",
      "2023-07-24 18:55:20.566549: I tensorflow/core/common_runtime/pluggable_device/pluggable_device_factory.cc:272] Created TensorFlow device (/job:localhost/replica:0/task:0/device:GPU:0 with 25430 MB memory) -> physical PluggableDevice (device: 0, name: DML, pci bus id: <undefined>)\n"
     ]
    },
    {
     "name": "stdout",
     "output_type": "stream",
     "text": [
      "1238/1238 [==============================] - 460s 371ms/step - loss: 4.2713 - accuracy: 0.0349 - val_loss: 3.6953 - val_accuracy: 0.0532\n",
      "Epoch 2/200\n",
      "1238/1238 [==============================] - 449s 363ms/step - loss: 3.7932 - accuracy: 0.0476 - val_loss: 3.7598 - val_accuracy: 0.0468\n",
      "Epoch 3/200\n",
      "1238/1238 [==============================] - 451s 364ms/step - loss: 3.7000 - accuracy: 0.0558 - val_loss: 3.7284 - val_accuracy: 0.0577\n",
      "Epoch 4/200\n",
      "1238/1238 [==============================] - 449s 363ms/step - loss: 3.6275 - accuracy: 0.0674 - val_loss: 3.5272 - val_accuracy: 0.0836\n",
      "Epoch 5/200\n",
      "1238/1238 [==============================] - 450s 363ms/step - loss: 3.5670 - accuracy: 0.0749 - val_loss: 3.3992 - val_accuracy: 0.1075\n",
      "Epoch 6/200\n",
      "1238/1238 [==============================] - 450s 363ms/step - loss: 3.4906 - accuracy: 0.0871 - val_loss: 3.5311 - val_accuracy: 0.0932\n",
      "Epoch 7/200\n",
      "1238/1238 [==============================] - 450s 363ms/step - loss: 3.4293 - accuracy: 0.0959 - val_loss: 3.3326 - val_accuracy: 0.1170\n",
      "Epoch 8/200\n",
      "1238/1238 [==============================] - 458s 370ms/step - loss: 3.3555 - accuracy: 0.1096 - val_loss: 3.2082 - val_accuracy: 0.1402\n",
      "Epoch 9/200\n",
      "1238/1238 [==============================] - 452s 365ms/step - loss: 3.2937 - accuracy: 0.1221 - val_loss: 3.2710 - val_accuracy: 0.1370\n",
      "Epoch 10/200\n",
      "1238/1238 [==============================] - 448s 362ms/step - loss: 3.2389 - accuracy: 0.1315 - val_loss: 3.0849 - val_accuracy: 0.1641\n",
      "Epoch 11/200\n",
      "1238/1238 [==============================] - 447s 361ms/step - loss: 3.1968 - accuracy: 0.1396 - val_loss: 3.1338 - val_accuracy: 0.1532\n",
      "Epoch 12/200\n",
      "1238/1238 [==============================] - 445s 360ms/step - loss: 3.1455 - accuracy: 0.1494 - val_loss: 2.9609 - val_accuracy: 0.1845\n",
      "Epoch 13/200\n",
      "1238/1238 [==============================] - 447s 361ms/step - loss: 3.0981 - accuracy: 0.1572 - val_loss: 3.0988 - val_accuracy: 0.1723\n",
      "Epoch 14/200\n",
      "1238/1238 [==============================] - 446s 360ms/step - loss: 3.0516 - accuracy: 0.1692 - val_loss: 2.8777 - val_accuracy: 0.2132\n",
      "Epoch 15/200\n",
      "1238/1238 [==============================] - 461s 373ms/step - loss: 3.0069 - accuracy: 0.1784 - val_loss: 2.7812 - val_accuracy: 0.2364\n",
      "Epoch 16/200\n",
      "1238/1238 [==============================] - 447s 361ms/step - loss: 2.9514 - accuracy: 0.1887 - val_loss: 2.9675 - val_accuracy: 0.1886\n",
      "Epoch 17/200\n",
      "1238/1238 [==============================] - 443s 358ms/step - loss: 2.9169 - accuracy: 0.1949 - val_loss: 2.8681 - val_accuracy: 0.2148\n",
      "Epoch 18/200\n",
      "1238/1238 [==============================] - 450s 363ms/step - loss: 2.8653 - accuracy: 0.2085 - val_loss: 2.7897 - val_accuracy: 0.2420\n",
      "Epoch 19/200\n",
      "1070/1238 [========================>.....] - ETA: 59s - loss: 2.8340 - accuracy: 0.2114"
     ]
    }
   ],
   "source": [
    "history = model.fit(\n",
    "    train_generator,\n",
    "#     steps_per_epoch=train_num // BATCH_SIZE,\n",
    "    validation_data=valid_generator,\n",
    "#     validation_steps=valid_num // BATCH_SIZE,\n",
    "    batch_size=BATCH_SIZE,\n",
    "    epochs=EPOCHS,\n",
    "    verbose=1\n",
    ")"
   ]
  },
  {
   "cell_type": "code",
   "execution_count": 8,
   "id": "3f44fa45",
   "metadata": {
    "id": "3f44fa45"
   },
   "outputs": [
    {
     "name": "stderr",
     "output_type": "stream",
     "text": [
      "WARNING:absl:Found untraced functions such as _jit_compiled_convolution_op, _jit_compiled_convolution_op, _jit_compiled_convolution_op, _jit_compiled_convolution_op, _jit_compiled_convolution_op while saving (showing 5 of 5). These functions will not be directly callable after loading.\n"
     ]
    },
    {
     "name": "stdout",
     "output_type": "stream",
     "text": [
      "INFO:tensorflow:Assets written to: mnt/d/models/odonata_model/assets\n"
     ]
    },
    {
     "name": "stderr",
     "output_type": "stream",
     "text": [
      "INFO:tensorflow:Assets written to: mnt/d/models/odonata_model/assets\n"
     ]
    }
   ],
   "source": [
    "model.save('/mnt/d/models/odonata_model')"
   ]
  },
  {
   "cell_type": "code",
   "execution_count": 1,
   "id": "5ec79065",
   "metadata": {
    "id": "5ec79065"
   },
   "outputs": [
    {
     "ename": "NameError",
     "evalue": "name 'plt' is not defined",
     "output_type": "error",
     "traceback": [
      "\u001b[0;31m---------------------------------------------------------------------------\u001b[0m",
      "\u001b[0;31mNameError\u001b[0m                                 Traceback (most recent call last)",
      "Cell \u001b[0;32mIn[1], line 3\u001b[0m\n\u001b[1;32m      1\u001b[0m \u001b[38;5;66;03m# Visualize history\u001b[39;00m\n\u001b[1;32m      2\u001b[0m \u001b[38;5;66;03m# Plot history: Loss\u001b[39;00m\n\u001b[0;32m----> 3\u001b[0m \u001b[43mplt\u001b[49m\u001b[38;5;241m.\u001b[39mplot(history\u001b[38;5;241m.\u001b[39mhistory[\u001b[38;5;124m'\u001b[39m\u001b[38;5;124mval_loss\u001b[39m\u001b[38;5;124m'\u001b[39m])\n\u001b[1;32m      4\u001b[0m plt\u001b[38;5;241m.\u001b[39mtitle(\u001b[38;5;124m'\u001b[39m\u001b[38;5;124mValidation loss history\u001b[39m\u001b[38;5;124m'\u001b[39m)\n\u001b[1;32m      5\u001b[0m plt\u001b[38;5;241m.\u001b[39mylabel(\u001b[38;5;124m'\u001b[39m\u001b[38;5;124mLoss value\u001b[39m\u001b[38;5;124m'\u001b[39m)\n",
      "\u001b[0;31mNameError\u001b[0m: name 'plt' is not defined"
     ]
    }
   ],
   "source": [
    "# Visualize history\n",
    "# Plot history: Loss\n",
    "plt.plot(history.history['val_loss'])\n",
    "plt.title('Validation loss history')\n",
    "plt.ylabel('Loss value')\n",
    "plt.xlabel('No. epoch')\n",
    "plt.show()"
   ]
  },
  {
   "cell_type": "code",
   "execution_count": 10,
   "id": "4e1c76a4",
   "metadata": {
    "id": "4e1c76a4"
   },
   "outputs": [
    {
     "data": {
      "image/png": "[encoded data removed]",
      "text/plain": [
       "<Figure size 640x480 with 1 Axes>"
      ]
     },
     "metadata": {},
     "output_type": "display_data"
    }
   ],
   "source": [
    "# Plot history: Accuracy\n",
    "plt.plot(history.history['val_accuracy'])\n",
    "plt.title('Validation accuracy history')\n",
    "plt.ylabel('Accuracy value (%)')\n",
    "plt.xlabel('No. epoch')\n",
    "plt.show()"
   ]
  },
  {
   "cell_type": "code",
   "execution_count": null,
   "id": "7477443b",
   "metadata": {
    "id": "7477443b"
   },
   "outputs": [],
   "source": []
  }
 ],
 "metadata": {
  "colab": {
   "include_colab_link": true,
   "provenance": []
  },
  "kernelspec": {
   "display_name": "Python 3 (ipykernel)",
   "language": "python",
   "name": "python3"
  },
  "language_info": {
   "codemirror_mode": {
    "name": "ipython",
    "version": 3
   },
   "file_extension": ".py",
   "mimetype": "text/x-python",
   "name": "python",
   "nbconvert_exporter": "python",
   "pygments_lexer": "ipython3",
   "version": "3.10.12"
  }
 },
 "nbformat": 4,
 "nbformat_minor": 5
}
