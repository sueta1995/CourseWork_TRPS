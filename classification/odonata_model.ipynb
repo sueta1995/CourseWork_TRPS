{
 "cells": [
  {
   "cell_type": "code",
   "execution_count": 2,
   "id": "8143c37f",
   "metadata": {},
   "outputs": [],
   "source": [
    "import pickle\n",
    "import matplotlib.pyplot as plt\n",
    "import tensorflow\n",
    "from keras.preprocessing.image import ImageDataGenerator\n",
    "from keras.models import Sequential\n",
    "from keras.layers import Dense, Dropout, Activation, Flatten\n",
    "from keras.layers import Conv2D, MaxPooling2D\n",
    "from keras.layers import BatchNormalization\n",
    "from keras.layers.convolutional import Conv2D\n",
    "from keras.layers.pooling import MaxPool2D\n",
    "from keras.initializers.initializers import RandomNormal, Constant\n",
    "from keras import optimizers\n",
    "from keras.losses import CategoricalCrossentropy\n",
    "from keras.utils import to_categorical\n",
    "from keras.optimizers import Adam\n",
    "from keras.optimizers import SGD"
   ]
  },
  {
   "cell_type": "code",
   "execution_count": 3,
   "id": "ff670622",
   "metadata": {},
   "outputs": [],
   "source": [
    "IMG_SIZE = 227\n",
    "CHANNELS = 3\n",
    "TRAIN_DIR = 'D:/train_data'\n",
    "VALID_DIR = 'D:/valid_data'\n",
    "EPOCHS = 100\n",
    "BATCH_SIZE = 32"
   ]
  },
  {
   "cell_type": "code",
   "execution_count": 4,
   "id": "72772401",
   "metadata": {},
   "outputs": [],
   "source": [
    "train_datagen = ImageDataGenerator(\n",
    "    rescale=1./255,\n",
    "    rotation_range=10,\n",
    "    width_shift_range=0.1,\n",
    "    height_shift_range=0.1,\n",
    "    shear_range=0.1,\n",
    "    zoom_range=0.1\n",
    ")\n",
    "\n",
    "valid_dataden = ImageDataGenerator(\n",
    "    rescale=1./255.\n",
    ")"
   ]
  },
  {
   "cell_type": "code",
   "execution_count": 5,
   "id": "bc67b17f",
   "metadata": {},
   "outputs": [
    {
     "name": "stdout",
     "output_type": "stream",
     "text": [
      "Found 18900 images belonging to 54 classes.\n",
      "Found 2700 images belonging to 54 classes.\n"
     ]
    }
   ],
   "source": [
    "train_generator = train_datagen.flow_from_directory(\n",
    "    TRAIN_DIR,\n",
    "    target_size=(IMG_SIZE, IMG_SIZE),\n",
    "    color_mode='rgb',\n",
    "    batch_size=32,\n",
    "    seed=1,\n",
    "    shuffle=True,\n",
    "    class_mode='categorical'\n",
    ")\n",
    "\n",
    "valid_generator = train_datagen.flow_from_directory(\n",
    "    VALID_DIR,\n",
    "    target_size=(IMG_SIZE, IMG_SIZE),\n",
    "    color_mode='rgb',\n",
    "    batch_size=32,\n",
    "    seed=7,\n",
    "    shuffle=True,\n",
    "    class_mode='categorical'\n",
    ")\n",
    "\n",
    "train_num = train_generator.samples\n",
    "valid_num = valid_generator.samples"
   ]
  },
  {
   "cell_type": "code",
   "execution_count": 6,
   "id": "b5e90514",
   "metadata": {},
   "outputs": [
    {
     "name": "stdout",
     "output_type": "stream",
     "text": [
      "Model: \"sequential\"\n",
      "_________________________________________________________________\n",
      " Layer (type)                Output Shape              Param #   \n",
      "=================================================================\n",
      " conv2d (Conv2D)             (None, 55, 55, 96)        34944     \n",
      "                                                                 \n",
      " batch_normalization (BatchN  (None, 55, 55, 96)       384       \n",
      " ormalization)                                                   \n",
      "                                                                 \n",
      " max_pooling2d (MaxPooling2D  (None, 27, 27, 96)       0         \n",
      " )                                                               \n",
      "                                                                 \n",
      " conv2d_1 (Conv2D)           (None, 27, 27, 256)       614656    \n",
      "                                                                 \n",
      " batch_normalization_1 (Batc  (None, 27, 27, 256)      1024      \n",
      " hNormalization)                                                 \n",
      "                                                                 \n",
      " max_pooling2d_1 (MaxPooling  (None, 13, 13, 256)      0         \n",
      " 2D)                                                             \n",
      "                                                                 \n",
      " conv2d_2 (Conv2D)           (None, 13, 13, 384)       885120    \n",
      "                                                                 \n",
      " batch_normalization_2 (Batc  (None, 13, 13, 384)      1536      \n",
      " hNormalization)                                                 \n",
      "                                                                 \n",
      " conv2d_3 (Conv2D)           (None, 13, 13, 384)       1327488   \n",
      "                                                                 \n",
      " batch_normalization_3 (Batc  (None, 13, 13, 384)      1536      \n",
      " hNormalization)                                                 \n",
      "                                                                 \n",
      " conv2d_4 (Conv2D)           (None, 13, 13, 256)       884992    \n",
      "                                                                 \n",
      " batch_normalization_4 (Batc  (None, 13, 13, 256)      1024      \n",
      " hNormalization)                                                 \n",
      "                                                                 \n",
      " max_pooling2d_2 (MaxPooling  (None, 6, 6, 256)        0         \n",
      " 2D)                                                             \n",
      "                                                                 \n",
      " flatten (Flatten)           (None, 9216)              0         \n",
      "                                                                 \n",
      " dense (Dense)               (None, 4096)              37752832  \n",
      "                                                                 \n",
      " dropout (Dropout)           (None, 4096)              0         \n",
      "                                                                 \n",
      " dense_1 (Dense)             (None, 54)                221238    \n",
      "                                                                 \n",
      "=================================================================\n",
      "Total params: 41,726,774\n",
      "Trainable params: 41,724,022\n",
      "Non-trainable params: 2,752\n",
      "_________________________________________________________________\n"
     ]
    },
    {
     "name": "stderr",
     "output_type": "stream",
     "text": [
      "C:\\Users\\User\\Desktop\\py_ai\\venv\\lib\\site-packages\\keras\\optimizers\\legacy\\gradient_descent.py:114: UserWarning: The `lr` argument is deprecated, use `learning_rate` instead.\n",
      "  super().__init__(name, **kwargs)\n"
     ]
    }
   ],
   "source": [
    "model = Sequential()\n",
    "\n",
    "model.add(Conv2D(filters=96, kernel_size=(11, 11), \n",
    "                 strides=(4, 4), activation=\"relu\", \n",
    "                 input_shape=(227, 227, 3)))\n",
    "model.add(BatchNormalization())\n",
    "model.add(MaxPool2D(pool_size=(3, 3), strides= (2, 2)))\n",
    "model.add(Conv2D(filters=256, kernel_size=(5, 5), \n",
    "                 strides=(1, 1), activation=\"relu\", \n",
    "                 padding=\"same\"))\n",
    "model.add(BatchNormalization())\n",
    "model.add(MaxPool2D(pool_size=(3, 3), strides=(2, 2)))\n",
    "model.add(Conv2D(filters=384, kernel_size=(3, 3), \n",
    "                 strides=(1, 1), activation=\"relu\", \n",
    "                 padding=\"same\"))\n",
    "model.add(BatchNormalization())\n",
    "model.add(Conv2D(filters=384, kernel_size=(3, 3), \n",
    "                 strides=(1, 1), activation=\"relu\", \n",
    "                 padding=\"same\"))\n",
    "model.add(BatchNormalization())\n",
    "model.add(Conv2D(filters=256, kernel_size=(3, 3), \n",
    "                 strides=(1, 1), activation=\"relu\", \n",
    "                 padding=\"same\"))\n",
    "model.add(BatchNormalization())\n",
    "model.add(MaxPool2D(pool_size=(3, 3), strides=(2, 2)))\n",
    "model.add(Flatten())\n",
    "model.add(Dense(4096, activation=\"relu\"))\n",
    "model.add(Dropout(0.5))\n",
    "model.add(Dense(54, activation=\"softmax\"))\n",
    "\n",
    "model.compile(loss='categorical_crossentropy', \n",
    "              optimizer=SGD(lr=0.001), \n",
    "              metrics=['accuracy'])\n",
    "\n",
    "model.summary()"
   ]
  },
  {
   "cell_type": "code",
   "execution_count": null,
   "id": "aa806d18",
   "metadata": {},
   "outputs": [
    {
     "name": "stdout",
     "output_type": "stream",
     "text": [
      "Epoch 1/100\n",
      "591/591 [==============================] - 354s 598ms/step - loss: 4.8907 - accuracy: 0.0322 - val_loss: 4.3602 - val_accuracy: 0.0333\n",
      "Epoch 2/100\n",
      "591/591 [==============================] - 353s 597ms/step - loss: 4.0732 - accuracy: 0.0503 - val_loss: 4.0035 - val_accuracy: 0.0474\n",
      "Epoch 3/100\n",
      "591/591 [==============================] - 352s 595ms/step - loss: 3.8942 - accuracy: 0.0585 - val_loss: 3.8882 - val_accuracy: 0.0600\n",
      "Epoch 4/100\n",
      "591/591 [==============================] - 353s 597ms/step - loss: 3.7968 - accuracy: 0.0729 - val_loss: 3.8658 - val_accuracy: 0.0593\n",
      "Epoch 5/100\n",
      "591/591 [==============================] - 353s 596ms/step - loss: 3.7464 - accuracy: 0.0766 - val_loss: 3.8146 - val_accuracy: 0.0685\n",
      "Epoch 6/100\n",
      "591/591 [==============================] - 353s 597ms/step - loss: 3.6766 - accuracy: 0.0905 - val_loss: 3.7632 - val_accuracy: 0.0785\n",
      "Epoch 7/100\n",
      "591/591 [==============================] - 353s 597ms/step - loss: 3.6240 - accuracy: 0.0997 - val_loss: 3.7599 - val_accuracy: 0.0719\n",
      "Epoch 8/100\n",
      "591/591 [==============================] - 353s 596ms/step - loss: 3.5779 - accuracy: 0.1053 - val_loss: 3.6908 - val_accuracy: 0.0896\n",
      "Epoch 9/100\n",
      "591/591 [==============================] - 353s 597ms/step - loss: 3.5294 - accuracy: 0.1134 - val_loss: 3.6939 - val_accuracy: 0.0848\n",
      "Epoch 10/100\n",
      "591/591 [==============================] - 353s 596ms/step - loss: 3.4712 - accuracy: 0.1276 - val_loss: 3.6946 - val_accuracy: 0.0878\n",
      "Epoch 11/100\n",
      "591/591 [==============================] - 353s 597ms/step - loss: 3.4175 - accuracy: 0.1287 - val_loss: 3.5750 - val_accuracy: 0.1052\n",
      "Epoch 12/100\n",
      "591/591 [==============================] - 352s 596ms/step - loss: 3.3572 - accuracy: 0.1426 - val_loss: 3.5913 - val_accuracy: 0.1019\n",
      "Epoch 13/100\n",
      "591/591 [==============================] - 353s 597ms/step - loss: 3.3092 - accuracy: 0.1558 - val_loss: 3.6630 - val_accuracy: 0.0933\n",
      "Epoch 14/100\n",
      "591/591 [==============================] - 353s 597ms/step - loss: 3.2540 - accuracy: 0.1622 - val_loss: 3.5657 - val_accuracy: 0.1063\n",
      "Epoch 15/100\n",
      " 59/591 [=>............................] - ETA: 4:55 - loss: 3.1648 - accuracy: 0.1790"
     ]
    }
   ],
   "source": [
    "history = model.fit(\n",
    "    train_generator,\n",
    "#     steps_per_epoch=train_num // BATCH_SIZE,\n",
    "    validation_data=valid_generator,\n",
    "#     validation_steps=valid_num // BATCH_SIZE,\n",
    "    batch_size=BATCH_SIZE,\n",
    "    epochs=EPOCHS,\n",
    "    verbose=1\n",
    ")"
   ]
  },
  {
   "cell_type": "code",
   "execution_count": null,
   "id": "3f44fa45",
   "metadata": {},
   "outputs": [],
   "source": [
    "model.save('D:/models/odonata_model')"
   ]
  },
  {
   "cell_type": "code",
   "execution_count": null,
   "id": "5ec79065",
   "metadata": {},
   "outputs": [],
   "source": [
    "# Visualize history\n",
    "# Plot history: Loss\n",
    "plt.plot(history.history['val_loss'])\n",
    "plt.title('Validation loss history')\n",
    "plt.ylabel('Loss value')\n",
    "plt.xlabel('No. epoch')\n",
    "plt.show()"
   ]
  },
  {
   "cell_type": "code",
   "execution_count": null,
   "id": "4e1c76a4",
   "metadata": {},
   "outputs": [],
   "source": [
    "# Plot history: Accuracy\n",
    "plt.plot(history.history['val_accuracy'])\n",
    "plt.title('Validation accuracy history')\n",
    "plt.ylabel('Accuracy value (%)')\n",
    "plt.xlabel('No. epoch')\n",
    "plt.show()"
   ]
  },
  {
   "cell_type": "code",
   "execution_count": null,
   "id": "7477443b",
   "metadata": {},
   "outputs": [],
   "source": []
  }
 ],
 "metadata": {
  "kernelspec": {
   "display_name": "Python 3 (ipykernel)",
   "language": "python",
   "name": "python3"
  },
  "language_info": {
   "codemirror_mode": {
    "name": "ipython",
    "version": 3
   },
   "file_extension": ".py",
   "mimetype": "text/x-python",
   "name": "python",
   "nbconvert_exporter": "python",
   "pygments_lexer": "ipython3",
   "version": "3.10.4"
  }
 },
 "nbformat": 4,
 "nbformat_minor": 5
}
