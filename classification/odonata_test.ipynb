{
 "cells": [
  {
   "cell_type": "code",
   "execution_count": 39,
   "id": "01edcba0-a9d0-4f28-bd8f-8fea63552d80",
   "metadata": {},
   "outputs": [],
   "source": [
    "import tensorflow as tf\n",
    "import numpy as np\n",
    "import keras\n",
    "import cv2"
   ]
  },
  {
   "cell_type": "code",
   "execution_count": 86,
   "id": "8a168454-44ab-4eb3-bcd2-1b497bc40e8e",
   "metadata": {},
   "outputs": [],
   "source": [
    "model = keras.models.load_model('/mnt/d/odonata_model_res.h5')\n",
    "CATEFORIES = np.load('/mnt/d/odonata_model.npy')"
   ]
  },
  {
   "cell_type": "code",
   "execution_count": 91,
   "id": "15bd351f-94d9-4b5a-b37c-e263b2b96b6e",
   "metadata": {},
   "outputs": [],
   "source": [
    "img = cv2.imread('../samples/sample_calopetryx_splenders.jpg')\n",
    "img_rs = cv2.resize(img, (224, 224))\n",
    "img_rgb = cv2.cvtColor(img_rs, cv2.COLOR_BGR2RGB)\n",
    "img_array = np.array(img_rgb)\n",
    "img_array = np.expand_dims(img_array, axis=0)"
   ]
  },
  {
   "cell_type": "code",
   "execution_count": 92,
   "id": "b525cd22-404c-4456-bad8-55048a628dc7",
   "metadata": {},
   "outputs": [
    {
     "name": "stdout",
     "output_type": "stream",
     "text": [
      "1/1 [==============================] - 0s 16ms/step\n"
     ]
    }
   ],
   "source": [
    "prediction = model.predict(img_array)"
   ]
  },
  {
   "cell_type": "code",
   "execution_count": 93,
   "id": "8349917a-356d-4c26-a49b-47de412ad278",
   "metadata": {},
   "outputs": [],
   "source": [
    "classes = np.argmax(prediction, axis = 1)\n",
    "category = CATEFORIES[classes]"
   ]
  },
  {
   "cell_type": "code",
   "execution_count": 94,
   "id": "3bd992f7-ce5a-426d-aa84-c7d8f039d300",
   "metadata": {},
   "outputs": [
    {
     "name": "stdout",
     "output_type": "stream",
     "text": [
      "['Sympetrum vulgatum']\n"
     ]
    }
   ],
   "source": [
    "print(category)"
   ]
  },
  {
   "cell_type": "code",
   "execution_count": 95,
   "id": "946102ba-f3cc-4b31-8c27-19d815b17c3e",
   "metadata": {},
   "outputs": [
    {
     "name": "stdout",
     "output_type": "stream",
     "text": [
      "[[0.000000e+00 0.000000e+00 0.000000e+00 0.000000e+00 0.000000e+00\n",
      "  0.000000e+00 0.000000e+00 0.000000e+00 0.000000e+00 6.870411e-12\n",
      "  0.000000e+00 0.000000e+00 0.000000e+00 0.000000e+00 0.000000e+00\n",
      "  0.000000e+00 0.000000e+00 0.000000e+00 0.000000e+00 0.000000e+00\n",
      "  0.000000e+00 0.000000e+00 0.000000e+00 0.000000e+00 0.000000e+00\n",
      "  0.000000e+00 0.000000e+00 0.000000e+00 0.000000e+00 0.000000e+00\n",
      "  0.000000e+00 0.000000e+00 0.000000e+00 0.000000e+00 0.000000e+00\n",
      "  0.000000e+00 0.000000e+00 0.000000e+00 0.000000e+00 0.000000e+00\n",
      "  0.000000e+00 0.000000e+00 0.000000e+00 1.000000e+00]]\n"
     ]
    }
   ],
   "source": [
    "print(prediction)"
   ]
  },
  {
   "cell_type": "code",
   "execution_count": null,
   "id": "76be752a-376a-4a7b-83f3-843936f835bd",
   "metadata": {},
   "outputs": [],
   "source": []
  }
 ],
 "metadata": {
  "kernelspec": {
   "display_name": "Python 3 (ipykernel)",
   "language": "python",
   "name": "python3"
  },
  "language_info": {
   "codemirror_mode": {
    "name": "ipython",
    "version": 3
   },
   "file_extension": ".py",
   "mimetype": "text/x-python",
   "name": "python",
   "nbconvert_exporter": "python",
   "pygments_lexer": "ipython3",
   "version": "3.10.12"
  }
 },
 "nbformat": 4,
 "nbformat_minor": 5
}
