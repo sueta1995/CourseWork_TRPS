{
 "cells": [
  {
   "cell_type": "code",
   "execution_count": 5,
   "id": "01edcba0-a9d0-4f28-bd8f-8fea63552d80",
   "metadata": {},
   "outputs": [],
   "source": [
    "import tensorflow as tf\n",
    "import numpy as np\n",
    "import keras\n",
    "import cv2"
   ]
  },
  {
   "cell_type": "code",
   "execution_count": 3,
   "id": "8a168454-44ab-4eb3-bcd2-1b497bc40e8e",
   "metadata": {},
   "outputs": [],
   "source": [
    "model = keras.models.load_model('/mnt/d/odonata_model')"
   ]
  },
  {
   "cell_type": "code",
   "execution_count": 22,
   "id": "15bd351f-94d9-4b5a-b37c-e263b2b96b6e",
   "metadata": {},
   "outputs": [],
   "source": [
    "img = cv2.imread('../samples/sample_cordulia_aenea.jpg')\n",
    "img_rs = cv2.resize(img, (227, 227))\n",
    "img_rgb = cv2.cvtColor(img_rs, cv2.COLOR_BGR2RGB)\n",
    "img_array = np.array(img_rgb)\n",
    "img_array = np.expand_dims(img_array, axis=0)"
   ]
  },
  {
   "cell_type": "code",
   "execution_count": 23,
   "id": "b525cd22-404c-4456-bad8-55048a628dc7",
   "metadata": {},
   "outputs": [
    {
     "name": "stdout",
     "output_type": "stream",
     "text": [
      "1/1 [==============================] - 0s 13ms/step\n"
     ]
    }
   ],
   "source": [
    "prediction = model.predict(img_array)"
   ]
  },
  {
   "cell_type": "code",
   "execution_count": 24,
   "id": "8349917a-356d-4c26-a49b-47de412ad278",
   "metadata": {},
   "outputs": [
    {
     "name": "stdout",
     "output_type": "stream",
     "text": [
      "[10]\n"
     ]
    }
   ],
   "source": [
    "classes = np.argmax(prediction, axis = 1)\n",
    "print(classes)"
   ]
  },
  {
   "cell_type": "code",
   "execution_count": null,
   "id": "83d75937-306c-4ea5-b2f8-38d09d3a6ad6",
   "metadata": {},
   "outputs": [],
   "source": []
  }
 ],
 "metadata": {
  "kernelspec": {
   "display_name": "Python 3 (ipykernel)",
   "language": "python",
   "name": "python3"
  },
  "language_info": {
   "codemirror_mode": {
    "name": "ipython",
    "version": 3
   },
   "file_extension": ".py",
   "mimetype": "text/x-python",
   "name": "python",
   "nbconvert_exporter": "python",
   "pygments_lexer": "ipython3",
   "version": "3.10.12"
  }
 },
 "nbformat": 4,
 "nbformat_minor": 5
}
