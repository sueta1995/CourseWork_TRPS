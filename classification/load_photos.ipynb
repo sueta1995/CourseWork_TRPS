{
 "cells": [
  {
   "cell_type": "code",
   "execution_count": 3,
   "id": "c1bf55e4",
   "metadata": {},
   "outputs": [],
   "source": [
    "import pandas as pd\n",
    "import numpy as np\n",
    "import os\n",
    "import urllib\n",
    "import glob\n",
    "import shutil"
   ]
  },
  {
   "cell_type": "code",
   "execution_count": 2,
   "id": "81b8dcc0",
   "metadata": {},
   "outputs": [],
   "source": [
    "BASE_DIR = os.path.dirname(os.path.dirname(os.path.abspath(__name__))) # папка выше"
   ]
  },
  {
   "cell_type": "code",
   "execution_count": 3,
   "id": "6ddf337e",
   "metadata": {},
   "outputs": [],
   "source": [
    "path = BASE_DIR + \"\\\\scripts_datasets\""
   ]
  },
  {
   "cell_type": "code",
   "execution_count": 4,
   "id": "37523cd4",
   "metadata": {},
   "outputs": [
    {
     "data": {
      "text/plain": [
       "'C:\\\\Users\\\\User\\\\Desktop\\\\py_ai\\\\scripts_datasets'"
      ]
     },
     "execution_count": 4,
     "metadata": {},
     "output_type": "execute_result"
    }
   ],
   "source": [
    "path"
   ]
  },
  {
   "cell_type": "code",
   "execution_count": 21,
   "id": "7e26d6ab",
   "metadata": {},
   "outputs": [],
   "source": [
    "df_336520 = pd.read_csv(f\"{path}\\\\observations-336520.csv\") # пример"
   ]
  },
  {
   "cell_type": "code",
   "execution_count": 22,
   "id": "9cd873d3",
   "metadata": {},
   "outputs": [
    {
     "data": {
      "text/html": [
       "<div>\n",
       "<style scoped>\n",
       "    .dataframe tbody tr th:only-of-type {\n",
       "        vertical-align: middle;\n",
       "    }\n",
       "\n",
       "    .dataframe tbody tr th {\n",
       "        vertical-align: top;\n",
       "    }\n",
       "\n",
       "    .dataframe thead th {\n",
       "        text-align: right;\n",
       "    }\n",
       "</style>\n",
       "<table border=\"1\" class=\"dataframe\">\n",
       "  <thead>\n",
       "    <tr style=\"text-align: right;\">\n",
       "      <th></th>\n",
       "      <th>image_url</th>\n",
       "      <th>scientific_name</th>\n",
       "    </tr>\n",
       "  </thead>\n",
       "  <tbody>\n",
       "    <tr>\n",
       "      <th>0</th>\n",
       "      <td>https://inaturalist-open-data.s3.amazonaws.com...</td>\n",
       "      <td>Sympetrum sanguineum</td>\n",
       "    </tr>\n",
       "    <tr>\n",
       "      <th>1</th>\n",
       "      <td>https://static.inaturalist.org/photos/13104976...</td>\n",
       "      <td>Sympetrum sanguineum</td>\n",
       "    </tr>\n",
       "    <tr>\n",
       "      <th>2</th>\n",
       "      <td>https://static.inaturalist.org/photos/13105126...</td>\n",
       "      <td>Sympetrum sanguineum</td>\n",
       "    </tr>\n",
       "    <tr>\n",
       "      <th>3</th>\n",
       "      <td>https://inaturalist-open-data.s3.amazonaws.com...</td>\n",
       "      <td>Sympetrum sanguineum</td>\n",
       "    </tr>\n",
       "    <tr>\n",
       "      <th>4</th>\n",
       "      <td>https://static.inaturalist.org/photos/13443782...</td>\n",
       "      <td>Sympetrum sanguineum</td>\n",
       "    </tr>\n",
       "    <tr>\n",
       "      <th>...</th>\n",
       "      <td>...</td>\n",
       "      <td>...</td>\n",
       "    </tr>\n",
       "    <tr>\n",
       "      <th>6950</th>\n",
       "      <td>https://inaturalist-open-data.s3.amazonaws.com...</td>\n",
       "      <td>Sympetrum sanguineum</td>\n",
       "    </tr>\n",
       "    <tr>\n",
       "      <th>6951</th>\n",
       "      <td>https://static.inaturalist.org/photos/28649488...</td>\n",
       "      <td>Sympetrum sanguineum</td>\n",
       "    </tr>\n",
       "    <tr>\n",
       "      <th>6952</th>\n",
       "      <td>https://inaturalist-open-data.s3.amazonaws.com...</td>\n",
       "      <td>Sympetrum sanguineum</td>\n",
       "    </tr>\n",
       "    <tr>\n",
       "      <th>6953</th>\n",
       "      <td>https://inaturalist-open-data.s3.amazonaws.com...</td>\n",
       "      <td>Sympetrum sanguineum</td>\n",
       "    </tr>\n",
       "    <tr>\n",
       "      <th>6954</th>\n",
       "      <td>https://inaturalist-open-data.s3.amazonaws.com...</td>\n",
       "      <td>Sympetrum sanguineum</td>\n",
       "    </tr>\n",
       "  </tbody>\n",
       "</table>\n",
       "<p>6955 rows × 2 columns</p>\n",
       "</div>"
      ],
      "text/plain": [
       "                                              image_url       scientific_name\n",
       "0     https://inaturalist-open-data.s3.amazonaws.com...  Sympetrum sanguineum\n",
       "1     https://static.inaturalist.org/photos/13104976...  Sympetrum sanguineum\n",
       "2     https://static.inaturalist.org/photos/13105126...  Sympetrum sanguineum\n",
       "3     https://inaturalist-open-data.s3.amazonaws.com...  Sympetrum sanguineum\n",
       "4     https://static.inaturalist.org/photos/13443782...  Sympetrum sanguineum\n",
       "...                                                 ...                   ...\n",
       "6950  https://inaturalist-open-data.s3.amazonaws.com...  Sympetrum sanguineum\n",
       "6951  https://static.inaturalist.org/photos/28649488...  Sympetrum sanguineum\n",
       "6952  https://inaturalist-open-data.s3.amazonaws.com...  Sympetrum sanguineum\n",
       "6953  https://inaturalist-open-data.s3.amazonaws.com...  Sympetrum sanguineum\n",
       "6954  https://inaturalist-open-data.s3.amazonaws.com...  Sympetrum sanguineum\n",
       "\n",
       "[6955 rows x 2 columns]"
      ]
     },
     "execution_count": 22,
     "metadata": {},
     "output_type": "execute_result"
    }
   ],
   "source": [
    "df_336520"
   ]
  },
  {
   "cell_type": "code",
   "execution_count": 5,
   "id": "59febe4e",
   "metadata": {},
   "outputs": [],
   "source": [
    "# скрипт создания датасета\n",
    "df_columns = ['image_url', 'scientific_name']\n",
    "df = pd.DataFrame(columns=df_columns)\n",
    "\n",
    "for filename in glob.glob(f\"{path}\\\\*.csv\"):\n",
    "    temp_df = pd.read_csv(filename)\n",
    "    df = pd.concat([df, temp_df], axis=0)\n",
    "    \n",
    "df.index = range(len(df))"
   ]
  },
  {
   "cell_type": "code",
   "execution_count": 15,
   "id": "b67809e6",
   "metadata": {},
   "outputs": [
    {
     "data": {
      "text/html": [
       "<div>\n",
       "<style scoped>\n",
       "    .dataframe tbody tr th:only-of-type {\n",
       "        vertical-align: middle;\n",
       "    }\n",
       "\n",
       "    .dataframe tbody tr th {\n",
       "        vertical-align: top;\n",
       "    }\n",
       "\n",
       "    .dataframe thead th {\n",
       "        text-align: right;\n",
       "    }\n",
       "</style>\n",
       "<table border=\"1\" class=\"dataframe\">\n",
       "  <thead>\n",
       "    <tr style=\"text-align: right;\">\n",
       "      <th></th>\n",
       "      <th>image_url</th>\n",
       "      <th>scientific_name</th>\n",
       "    </tr>\n",
       "  </thead>\n",
       "  <tbody>\n",
       "    <tr>\n",
       "      <th>96935</th>\n",
       "      <td>https://inaturalist-open-data.s3.amazonaws.com...</td>\n",
       "      <td>Lestes dryas</td>\n",
       "    </tr>\n",
       "    <tr>\n",
       "      <th>96936</th>\n",
       "      <td>http://static.inaturalist.org/photos/2074790/m...</td>\n",
       "      <td>Lestes dryas</td>\n",
       "    </tr>\n",
       "    <tr>\n",
       "      <th>96937</th>\n",
       "      <td>http://static.inaturalist.org/photos/2075599/m...</td>\n",
       "      <td>Lestes dryas</td>\n",
       "    </tr>\n",
       "    <tr>\n",
       "      <th>96938</th>\n",
       "      <td>http://static.inaturalist.org/photos/2078418/m...</td>\n",
       "      <td>Lestes dryas</td>\n",
       "    </tr>\n",
       "    <tr>\n",
       "      <th>96939</th>\n",
       "      <td>http://static.inaturalist.org/photos/2078597/m...</td>\n",
       "      <td>Lestes dryas</td>\n",
       "    </tr>\n",
       "    <tr>\n",
       "      <th>...</th>\n",
       "      <td>...</td>\n",
       "      <td>...</td>\n",
       "    </tr>\n",
       "    <tr>\n",
       "      <th>161564</th>\n",
       "      <td>https://inaturalist-open-data.s3.amazonaws.com...</td>\n",
       "      <td>Coenagrion ornatum</td>\n",
       "    </tr>\n",
       "    <tr>\n",
       "      <th>161565</th>\n",
       "      <td>https://static.inaturalist.org/photos/28842878...</td>\n",
       "      <td>Coenagrion ornatum</td>\n",
       "    </tr>\n",
       "    <tr>\n",
       "      <th>161566</th>\n",
       "      <td>https://static.inaturalist.org/photos/28984598...</td>\n",
       "      <td>Coenagrion ornatum</td>\n",
       "    </tr>\n",
       "    <tr>\n",
       "      <th>161567</th>\n",
       "      <td>https://static.inaturalist.org/photos/28984608...</td>\n",
       "      <td>Coenagrion ornatum</td>\n",
       "    </tr>\n",
       "    <tr>\n",
       "      <th>161568</th>\n",
       "      <td>https://inaturalist-open-data.s3.amazonaws.com...</td>\n",
       "      <td>Coenagrion ornatum</td>\n",
       "    </tr>\n",
       "  </tbody>\n",
       "</table>\n",
       "<p>64634 rows × 2 columns</p>\n",
       "</div>"
      ],
      "text/plain": [
       "                                                image_url     scientific_name\n",
       "96935   https://inaturalist-open-data.s3.amazonaws.com...        Lestes dryas\n",
       "96936   http://static.inaturalist.org/photos/2074790/m...        Lestes dryas\n",
       "96937   http://static.inaturalist.org/photos/2075599/m...        Lestes dryas\n",
       "96938   http://static.inaturalist.org/photos/2078418/m...        Lestes dryas\n",
       "96939   http://static.inaturalist.org/photos/2078597/m...        Lestes dryas\n",
       "...                                                   ...                 ...\n",
       "161564  https://inaturalist-open-data.s3.amazonaws.com...  Coenagrion ornatum\n",
       "161565  https://static.inaturalist.org/photos/28842878...  Coenagrion ornatum\n",
       "161566  https://static.inaturalist.org/photos/28984598...  Coenagrion ornatum\n",
       "161567  https://static.inaturalist.org/photos/28984608...  Coenagrion ornatum\n",
       "161568  https://inaturalist-open-data.s3.amazonaws.com...  Coenagrion ornatum\n",
       "\n",
       "[64634 rows x 2 columns]"
      ]
     },
     "execution_count": 15,
     "metadata": {},
     "output_type": "execute_result"
    }
   ],
   "source": [
    "sub_df = df.iloc[96935:]\n",
    "sub_df"
   ]
  },
  {
   "cell_type": "code",
   "execution_count": 20,
   "id": "bb1464d4",
   "metadata": {},
   "outputs": [
    {
     "data": {
      "text/plain": [
       "'http://static.inaturalist.org/photos/2074790/medium.jpg'"
      ]
     },
     "execution_count": 20,
     "metadata": {},
     "output_type": "execute_result"
    }
   ],
   "source": [
    "sub_df.iloc[1]['image_url']"
   ]
  },
  {
   "cell_type": "code",
   "execution_count": 21,
   "id": "03744a94",
   "metadata": {},
   "outputs": [],
   "source": [
    "# скрипт загрузки фотографий\n",
    "index = 96936\n",
    "\n",
    "for raw in sub_df.iloc:\n",
    "    try:\n",
    "        filename = f\"{index}.jpg\"\n",
    "\n",
    "        urllib.request.urlretrieve(raw['image_url'], filename)\n",
    "        shutil.move(filename, f\"d:\\\\odonata\\\\{raw['scientific_name']}\")\n",
    "\n",
    "        index += 1\n",
    "    except Exception:\n",
    "        continue"
   ]
  },
  {
   "cell_type": "code",
   "execution_count": 34,
   "id": "11ecae3f",
   "metadata": {},
   "outputs": [
    {
     "data": {
      "text/plain": [
       "'C:\\\\Users\\\\User\\\\Desktop\\\\py_ai'"
      ]
     },
     "execution_count": 34,
     "metadata": {},
     "output_type": "execute_result"
    }
   ],
   "source": [
    "BASE_DIR"
   ]
  },
  {
   "cell_type": "code",
   "execution_count": 22,
   "id": "c262e27b",
   "metadata": {},
   "outputs": [
    {
     "data": {
      "text/plain": [
       "161568"
      ]
     },
     "execution_count": 22,
     "metadata": {},
     "output_type": "execute_result"
    }
   ],
   "source": [
    "index # 92026"
   ]
  },
  {
   "cell_type": "code",
   "execution_count": 5,
   "id": "1ec58da8",
   "metadata": {},
   "outputs": [],
   "source": [
    "DATADIR = \"/mnt/d/odonata\"\n",
    "CATEGORIES = os.listdir(DATADIR)"
   ]
  },
  {
   "cell_type": "code",
   "execution_count": 6,
   "id": "b61cd1de",
   "metadata": {},
   "outputs": [
    {
     "name": "stdout",
     "output_type": "stream",
     "text": [
      "64\n",
      "['Aeshna affinis', 'Aeshna crenata', 'Aeshna cyanea', 'Aeshna grandis', 'Aeshna isoceles', 'Aeshna juncea', 'Aeshna mixta', 'Aeshna soneharai', 'Aeshna subarctica', 'Aeshna viridis', 'Anax imperator', 'Anax parthenope', 'Brachytron pratense', 'Calopteryx splendens', 'Calopteryx virgo', 'Coenagrion armatum', 'Coenagrion hastulatum', 'Coenagrion johanssoni', 'Coenagrion lunulatum', 'Coenagrion ornatum', 'Coenagrion puella', 'Coenagrion pulchellum', 'Cordulia aenea', 'Enallagma cyathigerum', 'Epitheca bimaculata', 'Erythromma najas', 'Erythromma viridulum', 'Gomphus vulgatissimus', 'Ischnura elegans', 'Ischnura pumilio', 'Lestes barbarus', 'Lestes dryas', 'Lestes sponsa', 'Lestes virens', 'Leucorrhinia albifrons', 'Leucorrhinia caudalis', 'Leucorrhinia dubia', 'Leucorrhinia pectoralis', 'Leucorrhinia rubicunda', 'Libellula depressa', 'Libellula fulva', 'Libellula quadrimaculata', 'Nehalennia speciosa', 'Onychogomphus forcipatus', 'Ophiogomphus cecilia', 'Orthetrum brunneum', 'Orthetrum cancellatum', 'Orthetrum coerulescens', 'Pantala flavescens', 'Platycnemis pennipes', 'Pyrrhosoma nymphula', 'Somatochlora arctica', 'Somatochlora flavomaculata', 'Somatochlora metallica', 'Stylurus flavipes', 'Sympecma fusca', 'Sympecma paedisca', 'Sympetrum danae', 'Sympetrum flaveolum', 'Sympetrum fonscolombii', 'Sympetrum pedemontanum', 'Sympetrum sanguineum', 'Sympetrum striolatum', 'Sympetrum vulgatum']\n"
     ]
    }
   ],
   "source": [
    "print(f\"{len(CATEGORIES)}\\n{CATEGORIES}\")"
   ]
  },
  {
   "cell_type": "code",
   "execution_count": 8,
   "id": "74835c7e",
   "metadata": {},
   "outputs": [
    {
     "name": "stdout",
     "output_type": "stream",
     "text": [
      "[('Aeshna affinis', 947), ('Aeshna crenata', 276), ('Aeshna cyanea', 4717), ('Aeshna grandis', 2239), ('Aeshna isoceles', 1510), ('Aeshna juncea', 2233), ('Aeshna mixta', 4545), ('Aeshna soneharai', 426), ('Aeshna subarctica', 462), ('Aeshna viridis', 258), ('Anax imperator', 3808), ('Anax parthenope', 2016), ('Brachytron pratense', 1018), ('Calopteryx splendens', 6878), ('Calopteryx virgo', 4116), ('Coenagrion armatum', 317), ('Coenagrion hastulatum', 1687), ('Coenagrion johanssoni', 366), ('Coenagrion lunulatum', 266), ('Coenagrion ornatum', 79), ('Coenagrion puella', 6972), ('Coenagrion pulchellum', 3514), ('Cordulia aenea', 2143), ('Enallagma cyathigerum', 6316), ('Epitheca bimaculata', 667), ('Erythromma najas', 3220), ('Erythromma viridulum', 2127), ('Gomphus vulgatissimus', 2440), ('Ischnura elegans', 5329), ('Ischnura pumilio', 1146), ('Lestes barbarus', 1372), ('Lestes dryas', 3252), ('Lestes sponsa', 2903), ('Lestes virens', 1303), ('Leucorrhinia albifrons', 456), ('Leucorrhinia caudalis', 341), ('Leucorrhinia dubia', 980), ('Leucorrhinia pectoralis', 761), ('Leucorrhinia rubicunda', 1281), ('Libellula depressa', 3896), ('Libellula fulva', 3601), ('Libellula quadrimaculata', 4790), ('Nehalennia speciosa', 190), ('Onychogomphus forcipatus', 3332), ('Ophiogomphus cecilia', 817), ('Orthetrum brunneum', 2961), ('Orthetrum cancellatum', 4121), ('Orthetrum coerulescens', 3634), ('Pantala flavescens', 4015), ('Platycnemis pennipes', 4013), ('Pyrrhosoma nymphula', 4359), ('Somatochlora arctica', 182), ('Somatochlora flavomaculata', 582), ('Somatochlora metallica', 868), ('Stylurus flavipes', 313), ('Sympecma fusca', 3577), ('Sympecma paedisca', 1938), ('Sympetrum danae', 3576), ('Sympetrum flaveolum', 3307), ('Sympetrum fonscolombii', 3987), ('Sympetrum pedemontanum', 1577), ('Sympetrum sanguineum', 6955), ('Sympetrum striolatum', 3880), ('Sympetrum vulgatum', 4333)]\n"
     ]
    }
   ],
   "source": [
    "check = []\n",
    "\n",
    "for category in CATEGORIES:\n",
    "    check.append((category, len(os.listdir(os.path.join(DATADIR, category)))))\n",
    "\n",
    "print(check)"
   ]
  },
  {
   "cell_type": "code",
   "execution_count": null,
   "id": "7a15df3f-b664-48fb-8e3f-0be140b12bd0",
   "metadata": {},
   "outputs": [],
   "source": []
  }
 ],
 "metadata": {
  "kernelspec": {
   "display_name": "Python 3 (ipykernel)",
   "language": "python",
   "name": "python3"
  },
  "language_info": {
   "codemirror_mode": {
    "name": "ipython",
    "version": 3
   },
   "file_extension": ".py",
   "mimetype": "text/x-python",
   "name": "python",
   "nbconvert_exporter": "python",
   "pygments_lexer": "ipython3",
   "version": "3.10.12"
  }
 },
 "nbformat": 4,
 "nbformat_minor": 5
}
